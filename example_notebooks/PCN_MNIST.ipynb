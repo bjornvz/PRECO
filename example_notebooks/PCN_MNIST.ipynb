{
 "cells": [
  {
   "cell_type": "markdown",
   "metadata": {},
   "source": [
    "# PCN (hierarchical) example, MNIST dataset\n",
    "This notebook gives a simple example use of the discriminative PCN implementation applied to classification on MNIST."
   ]
  },
  {
   "cell_type": "code",
   "execution_count": 1,
   "metadata": {},
   "outputs": [
    {
     "name": "stdout",
     "output_type": "stream",
     "text": [
      "WARNING: CUDA not available, using CPU\n"
     ]
    }
   ],
   "source": [
    "import sys\n",
    "sys.path.append('/Users/6884407/PRECO')\n",
    "\n",
    "from PRECO.utils import *\n",
    "import PRECO.optim as optim\n",
    "from PRECO.PCN import *\n",
    "\n",
    "import torchvision\n",
    "from torchvision import transforms\n",
    "from torch.utils.data import DataLoader, SubsetRandomSampler, random_split\n",
    "from tqdm import tqdm"
   ]
  },
  {
   "cell_type": "markdown",
   "metadata": {},
   "source": [
    "Set folder for dataset and for saved files, and set the seed for reproducibility."
   ]
  },
  {
   "cell_type": "code",
   "execution_count": 2,
   "metadata": {},
   "outputs": [],
   "source": [
    "DATASET_PATH = './data'\n",
    "SAVE_PATH = f\"output/PCG_{dt_string}\"\n",
    "\n",
    "seed(0)"
   ]
  },
  {
   "cell_type": "markdown",
   "metadata": {},
   "source": [
    "Define dataset. Here, we use MNIST."
   ]
  },
  {
   "cell_type": "code",
   "execution_count": 3,
   "metadata": {},
   "outputs": [],
   "source": [
    "transform = transforms.Compose([transforms.ToTensor(), transforms.Normalize((0.1307,), (0.3081,))])\n",
    "\n",
    "train_dataset = torchvision.datasets.MNIST(root=DATASET_PATH, train=True, transform=transform, download=True)\n",
    "test_set = torchvision.datasets.MNIST(root=DATASET_PATH, train=False, transform=transform, download=True)"
   ]
  },
  {
   "cell_type": "markdown",
   "metadata": {},
   "source": [
    "Define structural parameters. \n",
    "\n",
    "Setting the variable upward=True refers to the use of $\\mu^\\ell=a^{\\ell-1}f(w^{\\ell-1})+b^{\\ell-1}$, i.e. use of the *discriminative PCN*. Setting this to upward=False refers to the use of $\\mu^\\ell=a^{\\ell+1}f(w^{\\ell+1})+b^{\\ell+1}$, i.e. use of the *generative PCN*."
   ]
  },
  {
   "cell_type": "code",
   "execution_count": 4,
   "metadata": {},
   "outputs": [],
   "source": [
    "f = tanh\n",
    "use_bias = True\n",
    "upward = True\n",
    "layers = [784, 32, 16, 10]\n",
    "\n",
    "structure = PCN_AMB(f=f, \n",
    "                     use_bias=use_bias, \n",
    "                     upward=upward, \n",
    "                     layers=layers,\n",
    "                     )\n"
   ]
  },
  {
   "cell_type": "markdown",
   "metadata": {},
   "source": [
    "Define PC training parameters. Define the PCnet object, an optimizer, and couple the optimizer to the PCnet. (This is necessary in PC because for incremental mode one has to call the optimizer from within the PCgraph class.)"
   ]
  },
  {
   "cell_type": "code",
   "execution_count": 5,
   "metadata": {},
   "outputs": [],
   "source": [
    "# Inference\n",
    "lr_x = 0.5                  # inference rate \n",
    "T_train = 5                 # inference time scale\n",
    "incremental = True          # whether to use incremental EM or not\n",
    "use_input_error = False     # whether to use errors in the input layer or not\n",
    "\n",
    "# Learning\n",
    "lr_w = 0.0001               # learning rate\n",
    "batch_size = 200 \n",
    "weight_decay = 0            # weight decay\n",
    "grad_clip = 1\n",
    "batch_scale = False\n",
    "\n",
    "PCN = PCnet(structure=structure,\n",
    "              lr_x=lr_x,\n",
    "              T_train=T_train, \n",
    "              incremental=False,\n",
    "              use_feedforward_init=True,\n",
    "            )\n",
    "\n",
    "optimizer = optim.Adam(\n",
    "    PCN.params,\n",
    "    learning_rate=lr_w,\n",
    "    grad_clip=grad_clip,\n",
    "    batch_scale=batch_scale,\n",
    "    weight_decay=weight_decay,\n",
    ")\n",
    "\n",
    "PCN.set_optimizer(optimizer)"
   ]
  },
  {
   "cell_type": "code",
   "execution_count": 6,
   "metadata": {},
   "outputs": [],
   "source": [
    "train_set, val_set = random_split(train_dataset, [50000, 10000])\n",
    "train_indices = train_subset_indices(train_set, 10, no_per_class=0) # if a certain number of samples per class is required, set no_per_class to that number. 0 means all samples are used.\n",
    "\n",
    "train_loader = preprocess( DataLoader(train_set, batch_size=batch_size, sampler=SubsetRandomSampler( train_indices ), drop_last=False) ) # subsetrandomsampler shuffles the data.\n",
    "val_loader = preprocess( DataLoader(val_set, batch_size=len(val_set), shuffle=False, drop_last=False) )\n",
    "test_loader = preprocess( DataLoader(test_set, batch_size=len(test_set), shuffle=False, drop_last=False) )"
   ]
  },
  {
   "cell_type": "markdown",
   "metadata": {},
   "source": [
    "The objective of PCNs is the *energy*, accessible by PCG.get_energy(). This is a sum of MSE-loss, and an *internal* energy:\n",
    "$$\n",
    "E = \\mathcal{L} +\\widetilde{E}\n",
    "$$\n",
    "with $\\mathcal{L}$ the MSE loss and $\\widetilde{E}$ the internal energy. $E$ is not computed during testing since the internal energy then is zero, so $E$ can simply be computed using torch.nn.MSELoss(). Thus, for our early stopper we also use the MSE loss, instead of the energy.\n",
    "\n",
    "We define the MSE loss, and lists to keep track of performance metrics. \n",
    "\n",
    "Then we get the main training loop."
   ]
  },
  {
   "cell_type": "code",
   "execution_count": 7,
   "metadata": {},
   "outputs": [
    {
     "name": "stderr",
     "output_type": "stream",
     "text": [
      "  3%|▎         | 1/30 [00:00<00:26,  1.11it/s]"
     ]
    },
    {
     "name": "stdout",
     "output_type": "stream",
     "text": [
      "\n",
      "EPOCH 1/30 \n",
      " #####################\n",
      "VAL acc:   0.735, VAL MSE:   0.068, TRAIN ENERGY:   0.028\n",
      "Validation objective decreased (inf --> 0.067676).\n"
     ]
    },
    {
     "name": "stderr",
     "output_type": "stream",
     "text": [
      "  7%|▋         | 2/30 [00:01<00:24,  1.14it/s]"
     ]
    },
    {
     "name": "stdout",
     "output_type": "stream",
     "text": [
      "\n",
      "EPOCH 2/30 \n",
      " #####################\n",
      "VAL acc:   0.833, VAL MSE:   0.049, TRAIN ENERGY:   0.006\n",
      "Validation objective decreased (0.067676 --> 0.049452).\n"
     ]
    },
    {
     "name": "stderr",
     "output_type": "stream",
     "text": [
      " 10%|█         | 3/30 [00:02<00:23,  1.15it/s]"
     ]
    },
    {
     "name": "stdout",
     "output_type": "stream",
     "text": [
      "\n",
      "EPOCH 3/30 \n",
      " #####################\n",
      "VAL acc:   0.869, VAL MSE:   0.038, TRAIN ENERGY:   0.003\n",
      "Validation objective decreased (0.049452 --> 0.038203).\n"
     ]
    },
    {
     "name": "stderr",
     "output_type": "stream",
     "text": [
      " 13%|█▎        | 4/30 [00:03<00:22,  1.15it/s]"
     ]
    },
    {
     "name": "stdout",
     "output_type": "stream",
     "text": [
      "\n",
      "EPOCH 4/30 \n",
      " #####################\n",
      "VAL acc:   0.880, VAL MSE:   0.031, TRAIN ENERGY:   0.002\n",
      "Validation objective decreased (0.038203 --> 0.031086).\n"
     ]
    },
    {
     "name": "stderr",
     "output_type": "stream",
     "text": [
      " 17%|█▋        | 5/30 [00:04<00:22,  1.13it/s]"
     ]
    },
    {
     "name": "stdout",
     "output_type": "stream",
     "text": [
      "\n",
      "EPOCH 5/30 \n",
      " #####################\n",
      "VAL acc:   0.889, VAL MSE:   0.027, TRAIN ENERGY:   0.001\n",
      "Validation objective decreased (0.031086 --> 0.027072).\n"
     ]
    },
    {
     "name": "stderr",
     "output_type": "stream",
     "text": [
      " 20%|██        | 6/30 [00:05<00:21,  1.11it/s]"
     ]
    },
    {
     "name": "stdout",
     "output_type": "stream",
     "text": [
      "\n",
      "EPOCH 6/30 \n",
      " #####################\n",
      "VAL acc:   0.898, VAL MSE:   0.024, TRAIN ENERGY:   0.001\n",
      "Validation objective decreased (0.027072 --> 0.024468).\n"
     ]
    },
    {
     "name": "stderr",
     "output_type": "stream",
     "text": [
      " 23%|██▎       | 7/30 [00:06<00:21,  1.09it/s]"
     ]
    },
    {
     "name": "stdout",
     "output_type": "stream",
     "text": [
      "\n",
      "EPOCH 7/30 \n",
      " #####################\n",
      "VAL acc:   0.905, VAL MSE:   0.023, TRAIN ENERGY:   0.001\n",
      "Validation objective decreased (0.024468 --> 0.022578).\n"
     ]
    },
    {
     "name": "stderr",
     "output_type": "stream",
     "text": [
      " 27%|██▋       | 8/30 [00:07<00:20,  1.08it/s]"
     ]
    },
    {
     "name": "stdout",
     "output_type": "stream",
     "text": [
      "\n",
      "EPOCH 8/30 \n",
      " #####################\n",
      "VAL acc:   0.909, VAL MSE:   0.021, TRAIN ENERGY:   0.001\n",
      "Validation objective decreased (0.022578 --> 0.021173).\n"
     ]
    },
    {
     "name": "stderr",
     "output_type": "stream",
     "text": [
      " 30%|███       | 9/30 [00:08<00:19,  1.09it/s]"
     ]
    },
    {
     "name": "stdout",
     "output_type": "stream",
     "text": [
      "\n",
      "EPOCH 9/30 \n",
      " #####################\n",
      "VAL acc:   0.915, VAL MSE:   0.020, TRAIN ENERGY:   0.001\n",
      "Validation objective decreased (0.021173 --> 0.020101).\n"
     ]
    },
    {
     "name": "stderr",
     "output_type": "stream",
     "text": [
      " 33%|███▎      | 10/30 [00:09<00:18,  1.09it/s]"
     ]
    },
    {
     "name": "stdout",
     "output_type": "stream",
     "text": [
      "\n",
      "EPOCH 10/30 \n",
      " #####################\n",
      "VAL acc:   0.918, VAL MSE:   0.019, TRAIN ENERGY:   0.001\n",
      "Validation objective decreased (0.020101 --> 0.019244).\n"
     ]
    },
    {
     "name": "stderr",
     "output_type": "stream",
     "text": [
      " 37%|███▋      | 11/30 [00:10<00:17,  1.07it/s]"
     ]
    },
    {
     "name": "stdout",
     "output_type": "stream",
     "text": [
      "\n",
      "EPOCH 11/30 \n",
      " #####################\n",
      "VAL acc:   0.920, VAL MSE:   0.019, TRAIN ENERGY:   0.001\n",
      "Validation objective decreased (0.019244 --> 0.018532).\n"
     ]
    },
    {
     "name": "stderr",
     "output_type": "stream",
     "text": [
      " 40%|████      | 12/30 [00:10<00:16,  1.07it/s]"
     ]
    },
    {
     "name": "stdout",
     "output_type": "stream",
     "text": [
      "\n",
      "EPOCH 12/30 \n",
      " #####################\n",
      "VAL acc:   0.922, VAL MSE:   0.018, TRAIN ENERGY:   0.001\n",
      "Validation objective decreased (0.018532 --> 0.017928).\n"
     ]
    },
    {
     "name": "stderr",
     "output_type": "stream",
     "text": [
      " 43%|████▎     | 13/30 [00:11<00:15,  1.06it/s]"
     ]
    },
    {
     "name": "stdout",
     "output_type": "stream",
     "text": [
      "\n",
      "EPOCH 13/30 \n",
      " #####################\n",
      "VAL acc:   0.923, VAL MSE:   0.017, TRAIN ENERGY:   0.001\n",
      "Validation objective decreased (0.017928 --> 0.017413).\n"
     ]
    },
    {
     "name": "stderr",
     "output_type": "stream",
     "text": [
      " 47%|████▋     | 14/30 [00:12<00:14,  1.08it/s]"
     ]
    },
    {
     "name": "stdout",
     "output_type": "stream",
     "text": [
      "\n",
      "EPOCH 14/30 \n",
      " #####################\n",
      "VAL acc:   0.925, VAL MSE:   0.017, TRAIN ENERGY:   0.001\n",
      "Validation objective decreased (0.017413 --> 0.016971).\n"
     ]
    },
    {
     "name": "stderr",
     "output_type": "stream",
     "text": [
      " 50%|█████     | 15/30 [00:14<00:15,  1.01s/it]"
     ]
    },
    {
     "name": "stdout",
     "output_type": "stream",
     "text": [
      "\n",
      "EPOCH 15/30 \n",
      " #####################\n",
      "VAL acc:   0.926, VAL MSE:   0.017, TRAIN ENERGY:   0.001\n",
      "Validation objective decreased (0.016971 --> 0.016581).\n"
     ]
    },
    {
     "name": "stderr",
     "output_type": "stream",
     "text": [
      " 53%|█████▎    | 16/30 [00:14<00:13,  1.00it/s]"
     ]
    },
    {
     "name": "stdout",
     "output_type": "stream",
     "text": [
      "\n",
      "EPOCH 16/30 \n",
      " #####################\n",
      "VAL acc:   0.926, VAL MSE:   0.016, TRAIN ENERGY:   0.001\n",
      "Validation objective decreased (0.016581 --> 0.016231).\n"
     ]
    },
    {
     "name": "stderr",
     "output_type": "stream",
     "text": [
      " 57%|█████▋    | 17/30 [00:15<00:12,  1.03it/s]"
     ]
    },
    {
     "name": "stdout",
     "output_type": "stream",
     "text": [
      "\n",
      "EPOCH 17/30 \n",
      " #####################\n",
      "VAL acc:   0.927, VAL MSE:   0.016, TRAIN ENERGY:   0.001\n",
      "Validation objective decreased (0.016231 --> 0.015914).\n"
     ]
    },
    {
     "name": "stderr",
     "output_type": "stream",
     "text": [
      " 60%|██████    | 18/30 [00:16<00:11,  1.03it/s]"
     ]
    },
    {
     "name": "stdout",
     "output_type": "stream",
     "text": [
      "\n",
      "EPOCH 18/30 \n",
      " #####################\n",
      "VAL acc:   0.928, VAL MSE:   0.016, TRAIN ENERGY:   0.001\n",
      "Validation objective decreased (0.015914 --> 0.015631).\n"
     ]
    },
    {
     "name": "stderr",
     "output_type": "stream",
     "text": [
      " 63%|██████▎   | 19/30 [00:17<00:10,  1.05it/s]"
     ]
    },
    {
     "name": "stdout",
     "output_type": "stream",
     "text": [
      "\n",
      "EPOCH 19/30 \n",
      " #####################\n",
      "VAL acc:   0.929, VAL MSE:   0.015, TRAIN ENERGY:   0.001\n",
      "Validation objective decreased (0.015631 --> 0.015377).\n"
     ]
    },
    {
     "name": "stderr",
     "output_type": "stream",
     "text": [
      " 67%|██████▋   | 20/30 [00:18<00:09,  1.04it/s]"
     ]
    },
    {
     "name": "stdout",
     "output_type": "stream",
     "text": [
      "\n",
      "EPOCH 20/30 \n",
      " #####################\n",
      "VAL acc:   0.930, VAL MSE:   0.015, TRAIN ENERGY:   0.001\n",
      "Validation objective decreased (0.015377 --> 0.015150).\n"
     ]
    },
    {
     "name": "stderr",
     "output_type": "stream",
     "text": [
      " 70%|███████   | 21/30 [00:19<00:08,  1.04it/s]"
     ]
    },
    {
     "name": "stdout",
     "output_type": "stream",
     "text": [
      "\n",
      "EPOCH 21/30 \n",
      " #####################\n",
      "VAL acc:   0.931, VAL MSE:   0.015, TRAIN ENERGY:   0.001\n",
      "Validation objective decreased (0.015150 --> 0.014946).\n"
     ]
    },
    {
     "name": "stderr",
     "output_type": "stream",
     "text": [
      " 73%|███████▎  | 22/30 [00:20<00:07,  1.05it/s]"
     ]
    },
    {
     "name": "stdout",
     "output_type": "stream",
     "text": [
      "\n",
      "EPOCH 22/30 \n",
      " #####################\n",
      "VAL acc:   0.931, VAL MSE:   0.015, TRAIN ENERGY:   0.001\n",
      "Validation objective decreased (0.014946 --> 0.014763).\n"
     ]
    },
    {
     "name": "stderr",
     "output_type": "stream",
     "text": [
      " 77%|███████▋  | 23/30 [00:21<00:06,  1.07it/s]"
     ]
    },
    {
     "name": "stdout",
     "output_type": "stream",
     "text": [
      "\n",
      "EPOCH 23/30 \n",
      " #####################\n",
      "VAL acc:   0.932, VAL MSE:   0.015, TRAIN ENERGY:   0.001\n",
      "Validation objective decreased (0.014763 --> 0.014598).\n"
     ]
    },
    {
     "name": "stderr",
     "output_type": "stream",
     "text": [
      " 80%|████████  | 24/30 [00:22<00:05,  1.07it/s]"
     ]
    },
    {
     "name": "stdout",
     "output_type": "stream",
     "text": [
      "\n",
      "EPOCH 24/30 \n",
      " #####################\n",
      "VAL acc:   0.932, VAL MSE:   0.014, TRAIN ENERGY:   0.001\n",
      "Validation objective decreased (0.014598 --> 0.014450).\n"
     ]
    },
    {
     "name": "stderr",
     "output_type": "stream",
     "text": [
      " 83%|████████▎ | 25/30 [00:23<00:04,  1.07it/s]"
     ]
    },
    {
     "name": "stdout",
     "output_type": "stream",
     "text": [
      "\n",
      "EPOCH 25/30 \n",
      " #####################\n",
      "VAL acc:   0.933, VAL MSE:   0.014, TRAIN ENERGY:   0.001\n",
      "Validation objective decreased (0.014450 --> 0.014317).\n"
     ]
    },
    {
     "name": "stderr",
     "output_type": "stream",
     "text": [
      " 87%|████████▋ | 26/30 [00:24<00:03,  1.06it/s]"
     ]
    },
    {
     "name": "stdout",
     "output_type": "stream",
     "text": [
      "\n",
      "EPOCH 26/30 \n",
      " #####################\n",
      "VAL acc:   0.933, VAL MSE:   0.014, TRAIN ENERGY:   0.000\n",
      "Validation objective decreased (0.014317 --> 0.014198).\n"
     ]
    },
    {
     "name": "stderr",
     "output_type": "stream",
     "text": [
      " 90%|█████████ | 27/30 [00:25<00:02,  1.08it/s]"
     ]
    },
    {
     "name": "stdout",
     "output_type": "stream",
     "text": [
      "\n",
      "EPOCH 27/30 \n",
      " #####################\n",
      "VAL acc:   0.933, VAL MSE:   0.014, TRAIN ENERGY:   0.000\n",
      "Validation objective decreased (0.014198 --> 0.014090).\n"
     ]
    },
    {
     "name": "stderr",
     "output_type": "stream",
     "text": [
      " 93%|█████████▎| 28/30 [00:26<00:01,  1.09it/s]"
     ]
    },
    {
     "name": "stdout",
     "output_type": "stream",
     "text": [
      "\n",
      "EPOCH 28/30 \n",
      " #####################\n",
      "VAL acc:   0.933, VAL MSE:   0.014, TRAIN ENERGY:   0.000\n",
      "Validation objective decreased (0.014090 --> 0.013993).\n"
     ]
    },
    {
     "name": "stderr",
     "output_type": "stream",
     "text": [
      " 97%|█████████▋| 29/30 [00:27<00:00,  1.11it/s]"
     ]
    },
    {
     "name": "stdout",
     "output_type": "stream",
     "text": [
      "\n",
      "EPOCH 29/30 \n",
      " #####################\n",
      "VAL acc:   0.933, VAL MSE:   0.014, TRAIN ENERGY:   0.000\n",
      "Validation objective decreased (0.013993 --> 0.013903).\n"
     ]
    },
    {
     "name": "stderr",
     "output_type": "stream",
     "text": [
      "100%|██████████| 30/30 [00:27<00:00,  1.08it/s]"
     ]
    },
    {
     "name": "stdout",
     "output_type": "stream",
     "text": [
      "\n",
      "EPOCH 30/30 \n",
      " #####################\n",
      "VAL acc:   0.933, VAL MSE:   0.014, TRAIN ENERGY:   0.000\n",
      "Validation objective decreased (0.013903 --> 0.013821).\n",
      "\n",
      "Training time: 0:00:27.902513\n"
     ]
    },
    {
     "name": "stderr",
     "output_type": "stream",
     "text": [
      "\n"
     ]
    }
   ],
   "source": [
    "MSE = torch.nn.MSELoss()\n",
    "\n",
    "train_energy, train_loss, train_acc = [], [], []\n",
    "val_loss, val_acc = [], []\n",
    "\n",
    "early_stopper = optim.EarlyStopper(patience=5, min_delta=0)\n",
    "\n",
    "epochs = 30\n",
    "\n",
    "start_time = datetime.now()\n",
    "\n",
    "with torch.no_grad():\n",
    "    for i in tqdm(range(epochs)):\n",
    "        \n",
    "        energy = 0\n",
    "        for batch_no, (X_batch, y_batch) in enumerate(train_loader):\n",
    "            PCN.train_supervised(X_batch, y_batch)\n",
    "            energy += PCN.get_energy()\n",
    "        train_energy.append(energy/len(train_loader))\n",
    "\n",
    "        loss, acc = 0, 0\n",
    "        for X_batch, y_batch in val_loader:\n",
    "            y_pred = PCN.test_supervised(X_batch) \n",
    "\n",
    "            loss += MSE(y_pred, onehot(y_batch, N=10) ).item()\n",
    "            acc += torch.mean(( torch.argmax(y_pred, axis=1) == y_batch ).float()).item()\n",
    "\n",
    "        val_acc.append(acc/len(val_loader))\n",
    "        val_loss.append(loss)\n",
    "\n",
    "        print(f\"\\nEPOCH {i+1}/{epochs} \\n #####################\")   \n",
    "        print(f\"VAL acc:   {val_acc[i]:.3f}, VAL MSE:   {val_loss[i]:.3f}, TRAIN ENERGY:   {train_energy[i]:.3f}\")\n",
    "\n",
    "        if early_stopper.early_stop(val_loss[i]):\n",
    "            print(f\"\\nEarly stopping at epoch {i+1}\")          \n",
    "            break\n",
    "\n",
    "print(f\"\\nTraining time: {datetime.now() - start_time}\")\n"
   ]
  },
  {
   "cell_type": "code",
   "execution_count": 8,
   "metadata": {},
   "outputs": [
    {
     "name": "stdout",
     "output_type": "stream",
     "text": [
      "\n",
      "TEST acc:   0.936, TEST MSE:   0.013\n",
      "Training & testing finished in 0:00:27\n"
     ]
    }
   ],
   "source": [
    "loss, acc = 0, 0\n",
    "for X_batch, y_batch in test_loader:\n",
    "    y_pred = PCN.test_supervised(X_batch) \n",
    "\n",
    "    loss += MSE(y_pred, onehot(y_batch,N=10) ).item()\n",
    "    acc += torch.mean(( torch.argmax(y_pred, axis=1) == y_batch).float()).item() \n",
    "\n",
    "test_energy = energy/len(test_loader)\n",
    "test_acc = acc/len(test_loader)\n",
    "test_loss = loss/len(test_loader)\n",
    "\n",
    "print(f\"\\nTEST acc:   {test_acc:.3f}, TEST MSE:   {test_loss:.3f}\")\n",
    "print(\"Training & testing finished in %s\" % str((datetime.now() - start_time)).split('.')[0])"
   ]
  }
 ],
 "metadata": {
  "kernelspec": {
   "display_name": "base",
   "language": "python",
   "name": "python3"
  },
  "language_info": {
   "codemirror_mode": {
    "name": "ipython",
    "version": 3
   },
   "file_extension": ".py",
   "mimetype": "text/x-python",
   "name": "python",
   "nbconvert_exporter": "python",
   "pygments_lexer": "ipython3",
   "version": "3.9.12"
  }
 },
 "nbformat": 4,
 "nbformat_minor": 2
}
