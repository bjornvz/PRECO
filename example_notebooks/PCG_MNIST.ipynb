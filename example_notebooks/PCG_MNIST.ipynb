{
 "cells": [
  {
   "cell_type": "markdown",
   "metadata": {},
   "source": [
    "# PC graph example, MNIST dataset\n",
    "This notebook gives a simple example use of the PC graph implementation applied to MNIST."
   ]
  },
  {
   "cell_type": "code",
   "execution_count": 1,
   "metadata": {},
   "outputs": [
    {
     "name": "stdout",
     "output_type": "stream",
     "text": [
      "WARNING: CUDA not available, using CPU\n"
     ]
    }
   ],
   "source": [
    "import sys\n",
    "sys.path.append('/Users/6884407/PRECO')\n",
    "\n",
    "from PRECO.utils import *\n",
    "import PRECO.optim as optim\n",
    "from PRECO.PCG import *\n",
    "\n",
    "import torchvision\n",
    "from torchvision import transforms\n",
    "from torch.utils.data import DataLoader, SubsetRandomSampler, random_split\n",
    "from tqdm import tqdm"
   ]
  },
  {
   "cell_type": "markdown",
   "metadata": {},
   "source": [
    "Set folder for dataset and for saved files, and set the seed for reproducibility."
   ]
  },
  {
   "cell_type": "code",
   "execution_count": 2,
   "metadata": {},
   "outputs": [],
   "source": [
    "DATASET_PATH = './data'\n",
    "SAVE_PATH = f\"output/PCG_{dt_string}\"\n",
    "\n",
    "seed(0)"
   ]
  },
  {
   "cell_type": "markdown",
   "metadata": {},
   "source": [
    "Define dataset. Here, we use MNIST."
   ]
  },
  {
   "cell_type": "code",
   "execution_count": 3,
   "metadata": {},
   "outputs": [],
   "source": [
    "transform = transforms.Compose([transforms.ToTensor(), transforms.Normalize((0.1307,), (0.3081,))])\n",
    "\n",
    "train_dataset = torchvision.datasets.MNIST(root=DATASET_PATH, train=True, transform=transform, download=True)\n",
    "test_set = torchvision.datasets.MNIST(root=DATASET_PATH, train=False, transform=transform, download=True)"
   ]
  },
  {
   "cell_type": "markdown",
   "metadata": {},
   "source": [
    "Define structural parameters. \n",
    "\n",
    "We can use get_mask_hierarchical() to get a *hierarchical mask*, i.e. to make the PCG equal to a PCN (FNN trained with IL). Note that to get the same updates as a PCN, use_input_error = False is required. \n",
    "\n",
    "AMB means we use a prediction convention Activation-Matrix-Bias, i.e. $\\mu=wf(a)+b$.\n",
    "MBA means we use a prediction convention Matrix-Bias-Activation, i.e. $\\mu=f(wa+b)$."
   ]
  },
  {
   "cell_type": "code",
   "execution_count": 4,
   "metadata": {},
   "outputs": [
    {
     "name": "stderr",
     "output_type": "stream",
     "text": [
      "2024-07-22 12:56:51,535 - INFO - Hierarchical mask, layers: 3, using feedforward initialization and testing.\n"
     ]
    }
   ],
   "source": [
    "f = tanh\n",
    "use_bias = True\n",
    "shape = [784, 48, 10] # input, hidden, output\n",
    "mask = get_mask_hierarchical([784,32,16,10])\n",
    "\n",
    "structure = PCG_AMB(f=f, \n",
    "                    use_bias=use_bias,\n",
    "                    shape=shape,\n",
    "                    mask=mask,\n",
    "                    )"
   ]
  },
  {
   "cell_type": "markdown",
   "metadata": {},
   "source": [
    "Define PC training parameters. Define the PCgraph object, an optimizer, and couple the optimizer to the PCgraph. (This is necessary in PC because for incremental mode one has to call the optimizer from within the PCgraph class.)\n",
    "\n",
    "Compared to PCNs, PC graphs also have a T_test variable."
   ]
  },
  {
   "cell_type": "code",
   "execution_count": 5,
   "metadata": {},
   "outputs": [],
   "source": [
    "# Inference\n",
    "lr_x = 0.5                  # inference rate \n",
    "T_train = 5                 # inference time scale\n",
    "T_test = 10                 # unused for hierarchical model\n",
    "incremental = True          # whether to use incremental EM or not\n",
    "use_input_error = False     # whether to use errors in the input layer or not\n",
    "\n",
    "# Learning\n",
    "lr_w = 0.00001              # learning rate\n",
    "batch_size = 250 \n",
    "weight_decay = 0             \n",
    "grad_clip = 1\n",
    "batch_scale = False\n",
    "\n",
    "PCG = PCgraph(structure=structure,\n",
    "            lr_x=lr_x, \n",
    "            T_train=T_train,\n",
    "            T_test=T_test,\n",
    "            incremental=incremental, \n",
    "            use_input_error=use_input_error,\n",
    "            )\n",
    "\n",
    "optimizer = optim.Adam(\n",
    "    PCG.params,\n",
    "    learning_rate=lr_w,\n",
    "    grad_clip=grad_clip,\n",
    "    batch_scale=batch_scale,\n",
    "    weight_decay=weight_decay,\n",
    ")\n",
    "\n",
    "PCG.set_optimizer(optimizer)"
   ]
  },
  {
   "cell_type": "markdown",
   "metadata": {},
   "source": [
    "Define the training and validation set."
   ]
  },
  {
   "cell_type": "code",
   "execution_count": 6,
   "metadata": {},
   "outputs": [],
   "source": [
    "train_set, val_set = random_split(train_dataset, [50000, 10000])\n",
    "train_indices = train_subset_indices(train_set, 10, no_per_class=0) # if a certain number of samples per class is required, set no_per_class to that number. 0 means all samples are used.\n",
    "\n",
    "train_loader = preprocess( DataLoader(train_set, batch_size=batch_size, sampler=SubsetRandomSampler( train_indices ), drop_last=False) ) # subsetrandomsampler shuffles the data.\n",
    "val_loader = preprocess( DataLoader(val_set, batch_size=len(val_set), shuffle=False, drop_last=False) )\n",
    "test_loader = preprocess( DataLoader(test_set, batch_size=len(test_set), shuffle=False, drop_last=False) )"
   ]
  },
  {
   "cell_type": "markdown",
   "metadata": {},
   "source": [
    "The objective of PCGs is the *energy*, accessible by PCG.get_energy(). This is a sum of MSE-loss, and an *internal* energy:\n",
    "$$\n",
    "E = \\mathcal{L} +\\widetilde{E}\n",
    "$$\n",
    "with $\\mathcal{L}$ the MSE loss and $\\widetilde{E}$ the internal energy. $E$ is not computed during testing since the internal energy then is zero, so $E$ can simply be computed using torch.nn.MSELoss(). Thus, for our early stopper we also use the MSE loss, instead of the energy.\n",
    "\n",
    "We define the MSE loss, and lists to keep track of performance metrics. \n",
    "\n",
    "Then we get the main training loop."
   ]
  },
  {
   "cell_type": "code",
   "execution_count": 7,
   "metadata": {},
   "outputs": [
    {
     "name": "stderr",
     "output_type": "stream",
     "text": [
      "  3%|▎         | 1/30 [00:05<02:29,  5.16s/it]"
     ]
    },
    {
     "name": "stdout",
     "output_type": "stream",
     "text": [
      "\n",
      "EPOCH 1/30 \n",
      " #####################\n",
      "VAL acc:   0.535, VAL MSE:   0.082, TRAIN ENERGY:   215.799\n",
      "Validation objective decreased (inf --> 0.081876).\n"
     ]
    },
    {
     "name": "stderr",
     "output_type": "stream",
     "text": [
      "  7%|▋         | 2/30 [00:10<02:30,  5.38s/it]"
     ]
    },
    {
     "name": "stdout",
     "output_type": "stream",
     "text": [
      "\n",
      "EPOCH 2/30 \n",
      " #####################\n",
      "VAL acc:   0.654, VAL MSE:   0.070, TRAIN ENERGY:   181.281\n",
      "Validation objective decreased (0.081876 --> 0.070473).\n"
     ]
    },
    {
     "name": "stderr",
     "output_type": "stream",
     "text": [
      " 10%|█         | 3/30 [00:15<02:20,  5.20s/it]"
     ]
    },
    {
     "name": "stdout",
     "output_type": "stream",
     "text": [
      "\n",
      "EPOCH 3/30 \n",
      " #####################\n",
      "VAL acc:   0.701, VAL MSE:   0.062, TRAIN ENERGY:   156.505\n",
      "Validation objective decreased (0.070473 --> 0.061989).\n"
     ]
    },
    {
     "name": "stderr",
     "output_type": "stream",
     "text": [
      " 13%|█▎        | 4/30 [00:21<02:19,  5.36s/it]"
     ]
    },
    {
     "name": "stdout",
     "output_type": "stream",
     "text": [
      "\n",
      "EPOCH 4/30 \n",
      " #####################\n",
      "VAL acc:   0.747, VAL MSE:   0.055, TRAIN ENERGY:   137.362\n",
      "Validation objective decreased (0.061989 --> 0.055219).\n"
     ]
    },
    {
     "name": "stderr",
     "output_type": "stream",
     "text": [
      " 17%|█▋        | 5/30 [00:26<02:10,  5.24s/it]"
     ]
    },
    {
     "name": "stdout",
     "output_type": "stream",
     "text": [
      "\n",
      "EPOCH 5/30 \n",
      " #####################\n",
      "VAL acc:   0.784, VAL MSE:   0.050, TRAIN ENERGY:   121.290\n",
      "Validation objective decreased (0.055219 --> 0.049563).\n"
     ]
    },
    {
     "name": "stderr",
     "output_type": "stream",
     "text": [
      " 20%|██        | 6/30 [00:31<02:04,  5.21s/it]"
     ]
    },
    {
     "name": "stdout",
     "output_type": "stream",
     "text": [
      "\n",
      "EPOCH 6/30 \n",
      " #####################\n",
      "VAL acc:   0.810, VAL MSE:   0.045, TRAIN ENERGY:   108.166\n",
      "Validation objective decreased (0.049563 --> 0.045128).\n"
     ]
    },
    {
     "name": "stderr",
     "output_type": "stream",
     "text": [
      " 23%|██▎       | 7/30 [00:36<01:58,  5.15s/it]"
     ]
    },
    {
     "name": "stdout",
     "output_type": "stream",
     "text": [
      "\n",
      "EPOCH 7/30 \n",
      " #####################\n",
      "VAL acc:   0.828, VAL MSE:   0.042, TRAIN ENERGY:   97.867\n",
      "Validation objective decreased (0.045128 --> 0.041702).\n"
     ]
    },
    {
     "name": "stderr",
     "output_type": "stream",
     "text": [
      " 27%|██▋       | 8/30 [00:41<01:53,  5.16s/it]"
     ]
    },
    {
     "name": "stdout",
     "output_type": "stream",
     "text": [
      "\n",
      "EPOCH 8/30 \n",
      " #####################\n",
      "VAL acc:   0.842, VAL MSE:   0.039, TRAIN ENERGY:   89.604\n",
      "Validation objective decreased (0.041702 --> 0.038929).\n"
     ]
    },
    {
     "name": "stderr",
     "output_type": "stream",
     "text": [
      " 30%|███       | 9/30 [00:46<01:49,  5.20s/it]"
     ]
    },
    {
     "name": "stdout",
     "output_type": "stream",
     "text": [
      "\n",
      "EPOCH 9/30 \n",
      " #####################\n",
      "VAL acc:   0.854, VAL MSE:   0.037, TRAIN ENERGY:   82.561\n",
      "Validation objective decreased (0.038929 --> 0.036519).\n"
     ]
    },
    {
     "name": "stderr",
     "output_type": "stream",
     "text": [
      " 33%|███▎      | 10/30 [00:52<01:46,  5.35s/it]"
     ]
    },
    {
     "name": "stdout",
     "output_type": "stream",
     "text": [
      "\n",
      "EPOCH 10/30 \n",
      " #####################\n",
      "VAL acc:   0.862, VAL MSE:   0.034, TRAIN ENERGY:   76.176\n",
      "Validation objective decreased (0.036519 --> 0.034294).\n"
     ]
    },
    {
     "name": "stderr",
     "output_type": "stream",
     "text": [
      " 37%|███▋      | 11/30 [00:57<01:40,  5.27s/it]"
     ]
    },
    {
     "name": "stdout",
     "output_type": "stream",
     "text": [
      "\n",
      "EPOCH 11/30 \n",
      " #####################\n",
      "VAL acc:   0.871, VAL MSE:   0.032, TRAIN ENERGY:   70.188\n",
      "Validation objective decreased (0.034294 --> 0.032195).\n"
     ]
    },
    {
     "name": "stderr",
     "output_type": "stream",
     "text": [
      " 40%|████      | 12/30 [01:03<01:35,  5.32s/it]"
     ]
    },
    {
     "name": "stdout",
     "output_type": "stream",
     "text": [
      "\n",
      "EPOCH 12/30 \n",
      " #####################\n",
      "VAL acc:   0.878, VAL MSE:   0.030, TRAIN ENERGY:   64.613\n",
      "Validation objective decreased (0.032195 --> 0.030257).\n"
     ]
    },
    {
     "name": "stderr",
     "output_type": "stream",
     "text": [
      " 43%|████▎     | 13/30 [01:08<01:32,  5.44s/it]"
     ]
    },
    {
     "name": "stdout",
     "output_type": "stream",
     "text": [
      "\n",
      "EPOCH 13/30 \n",
      " #####################\n",
      "VAL acc:   0.883, VAL MSE:   0.029, TRAIN ENERGY:   59.604\n",
      "Validation objective decreased (0.030257 --> 0.028546).\n"
     ]
    },
    {
     "name": "stderr",
     "output_type": "stream",
     "text": [
      " 47%|████▋     | 14/30 [01:14<01:26,  5.44s/it]"
     ]
    },
    {
     "name": "stdout",
     "output_type": "stream",
     "text": [
      "\n",
      "EPOCH 14/30 \n",
      " #####################\n",
      "VAL acc:   0.889, VAL MSE:   0.027, TRAIN ENERGY:   55.269\n",
      "Validation objective decreased (0.028546 --> 0.027090).\n"
     ]
    },
    {
     "name": "stderr",
     "output_type": "stream",
     "text": [
      " 50%|█████     | 15/30 [01:19<01:21,  5.46s/it]"
     ]
    },
    {
     "name": "stdout",
     "output_type": "stream",
     "text": [
      "\n",
      "EPOCH 15/30 \n",
      " #####################\n",
      "VAL acc:   0.894, VAL MSE:   0.026, TRAIN ENERGY:   51.593\n",
      "Validation objective decreased (0.027090 --> 0.025867).\n"
     ]
    },
    {
     "name": "stderr",
     "output_type": "stream",
     "text": [
      " 53%|█████▎    | 16/30 [01:25<01:16,  5.47s/it]"
     ]
    },
    {
     "name": "stdout",
     "output_type": "stream",
     "text": [
      "\n",
      "EPOCH 16/30 \n",
      " #####################\n",
      "VAL acc:   0.898, VAL MSE:   0.025, TRAIN ENERGY:   48.479\n",
      "Validation objective decreased (0.025867 --> 0.024842).\n"
     ]
    },
    {
     "name": "stderr",
     "output_type": "stream",
     "text": [
      " 57%|█████▋    | 17/30 [01:31<01:12,  5.54s/it]"
     ]
    },
    {
     "name": "stdout",
     "output_type": "stream",
     "text": [
      "\n",
      "EPOCH 17/30 \n",
      " #####################\n",
      "VAL acc:   0.901, VAL MSE:   0.024, TRAIN ENERGY:   45.824\n",
      "Validation objective decreased (0.024842 --> 0.023977).\n"
     ]
    },
    {
     "name": "stderr",
     "output_type": "stream",
     "text": [
      " 60%|██████    | 18/30 [01:36<01:06,  5.56s/it]"
     ]
    },
    {
     "name": "stdout",
     "output_type": "stream",
     "text": [
      "\n",
      "EPOCH 18/30 \n",
      " #####################\n",
      "VAL acc:   0.903, VAL MSE:   0.023, TRAIN ENERGY:   43.537\n",
      "Validation objective decreased (0.023977 --> 0.023240).\n"
     ]
    },
    {
     "name": "stderr",
     "output_type": "stream",
     "text": [
      " 63%|██████▎   | 19/30 [01:42<01:00,  5.51s/it]"
     ]
    },
    {
     "name": "stdout",
     "output_type": "stream",
     "text": [
      "\n",
      "EPOCH 19/30 \n",
      " #####################\n",
      "VAL acc:   0.906, VAL MSE:   0.023, TRAIN ENERGY:   41.540\n",
      "Validation objective decreased (0.023240 --> 0.022607).\n"
     ]
    },
    {
     "name": "stderr",
     "output_type": "stream",
     "text": [
      " 67%|██████▋   | 20/30 [01:47<00:54,  5.47s/it]"
     ]
    },
    {
     "name": "stdout",
     "output_type": "stream",
     "text": [
      "\n",
      "EPOCH 20/30 \n",
      " #####################\n",
      "VAL acc:   0.907, VAL MSE:   0.022, TRAIN ENERGY:   39.773\n",
      "Validation objective decreased (0.022607 --> 0.022057).\n"
     ]
    },
    {
     "name": "stderr",
     "output_type": "stream",
     "text": [
      " 70%|███████   | 21/30 [01:52<00:49,  5.45s/it]"
     ]
    },
    {
     "name": "stdout",
     "output_type": "stream",
     "text": [
      "\n",
      "EPOCH 21/30 \n",
      " #####################\n",
      "VAL acc:   0.908, VAL MSE:   0.022, TRAIN ENERGY:   38.189\n",
      "Validation objective decreased (0.022057 --> 0.021574).\n"
     ]
    },
    {
     "name": "stderr",
     "output_type": "stream",
     "text": [
      " 73%|███████▎  | 22/30 [01:58<00:43,  5.44s/it]"
     ]
    },
    {
     "name": "stdout",
     "output_type": "stream",
     "text": [
      "\n",
      "EPOCH 22/30 \n",
      " #####################\n",
      "VAL acc:   0.910, VAL MSE:   0.021, TRAIN ENERGY:   36.750\n",
      "Validation objective decreased (0.021574 --> 0.021145).\n"
     ]
    },
    {
     "name": "stderr",
     "output_type": "stream",
     "text": [
      " 77%|███████▋  | 23/30 [02:03<00:38,  5.43s/it]"
     ]
    },
    {
     "name": "stdout",
     "output_type": "stream",
     "text": [
      "\n",
      "EPOCH 23/30 \n",
      " #####################\n",
      "VAL acc:   0.911, VAL MSE:   0.021, TRAIN ENERGY:   35.428\n",
      "Validation objective decreased (0.021145 --> 0.020760).\n"
     ]
    },
    {
     "name": "stderr",
     "output_type": "stream",
     "text": [
      " 80%|████████  | 24/30 [02:09<00:32,  5.44s/it]"
     ]
    },
    {
     "name": "stdout",
     "output_type": "stream",
     "text": [
      "\n",
      "EPOCH 24/30 \n",
      " #####################\n",
      "VAL acc:   0.912, VAL MSE:   0.020, TRAIN ENERGY:   34.200\n",
      "Validation objective decreased (0.020760 --> 0.020410).\n"
     ]
    },
    {
     "name": "stderr",
     "output_type": "stream",
     "text": [
      " 83%|████████▎ | 25/30 [02:14<00:27,  5.46s/it]"
     ]
    },
    {
     "name": "stdout",
     "output_type": "stream",
     "text": [
      "\n",
      "EPOCH 25/30 \n",
      " #####################\n",
      "VAL acc:   0.913, VAL MSE:   0.020, TRAIN ENERGY:   33.049\n",
      "Validation objective decreased (0.020410 --> 0.020090).\n"
     ]
    },
    {
     "name": "stderr",
     "output_type": "stream",
     "text": [
      " 87%|████████▋ | 26/30 [02:19<00:21,  5.44s/it]"
     ]
    },
    {
     "name": "stdout",
     "output_type": "stream",
     "text": [
      "\n",
      "EPOCH 26/30 \n",
      " #####################\n",
      "VAL acc:   0.915, VAL MSE:   0.020, TRAIN ENERGY:   31.965\n",
      "Validation objective decreased (0.020090 --> 0.019797).\n"
     ]
    },
    {
     "name": "stderr",
     "output_type": "stream",
     "text": [
      " 90%|█████████ | 27/30 [02:25<00:16,  5.41s/it]"
     ]
    },
    {
     "name": "stdout",
     "output_type": "stream",
     "text": [
      "\n",
      "EPOCH 27/30 \n",
      " #####################\n",
      "VAL acc:   0.917, VAL MSE:   0.020, TRAIN ENERGY:   30.940\n",
      "Validation objective decreased (0.019797 --> 0.019527).\n"
     ]
    },
    {
     "name": "stderr",
     "output_type": "stream",
     "text": [
      " 93%|█████████▎| 28/30 [02:30<00:10,  5.37s/it]"
     ]
    },
    {
     "name": "stdout",
     "output_type": "stream",
     "text": [
      "\n",
      "EPOCH 28/30 \n",
      " #####################\n",
      "VAL acc:   0.918, VAL MSE:   0.019, TRAIN ENERGY:   29.968\n",
      "Validation objective decreased (0.019527 --> 0.019279).\n"
     ]
    },
    {
     "name": "stderr",
     "output_type": "stream",
     "text": [
      " 97%|█████████▋| 29/30 [02:35<00:05,  5.30s/it]"
     ]
    },
    {
     "name": "stdout",
     "output_type": "stream",
     "text": [
      "\n",
      "EPOCH 29/30 \n",
      " #####################\n",
      "VAL acc:   0.919, VAL MSE:   0.019, TRAIN ENERGY:   29.046\n",
      "Validation objective decreased (0.019279 --> 0.019052).\n"
     ]
    },
    {
     "name": "stderr",
     "output_type": "stream",
     "text": [
      "100%|██████████| 30/30 [02:41<00:00,  5.37s/it]"
     ]
    },
    {
     "name": "stdout",
     "output_type": "stream",
     "text": [
      "\n",
      "EPOCH 30/30 \n",
      " #####################\n",
      "VAL acc:   0.920, VAL MSE:   0.019, TRAIN ENERGY:   28.169\n",
      "Validation objective decreased (0.019052 --> 0.018844).\n",
      "\n",
      "Training time: 0:02:41.054548\n"
     ]
    },
    {
     "name": "stderr",
     "output_type": "stream",
     "text": [
      "\n"
     ]
    }
   ],
   "source": [
    "MSE = torch.nn.MSELoss()\n",
    "\n",
    "train_energy, train_loss, train_acc = [], [], []\n",
    "val_loss, val_acc = [], []\n",
    "\n",
    "early_stopper = optim.EarlyStopper(patience=5, min_delta=0)\n",
    "\n",
    "epochs = 30\n",
    "\n",
    "start_time = datetime.now()\n",
    "\n",
    "with torch.no_grad():\n",
    "    for i in tqdm(range(epochs)):\n",
    "        \n",
    "        energy = 0\n",
    "        for batch_no, (X_batch, y_batch) in enumerate(train_loader):\n",
    "            PCG.train_supervised(X_batch, y_batch)\n",
    "            energy += PCG.get_energy()\n",
    "        train_energy.append(energy/len(train_loader))\n",
    "\n",
    "        loss, acc = 0, 0\n",
    "        for X_batch, y_batch in val_loader:\n",
    "            y_pred = PCG.test_supervised(X_batch) \n",
    "\n",
    "            loss += MSE(y_pred, onehot(y_batch, N=10) ).item()\n",
    "            acc += torch.mean(( torch.argmax(y_pred, axis=1) == y_batch ).float()).item()\n",
    "\n",
    "        val_acc.append(acc/len(val_loader))\n",
    "        val_loss.append(loss)\n",
    "\n",
    "        print(f\"\\nEPOCH {i+1}/{epochs} \\n #####################\")   \n",
    "        print(f\"VAL acc:   {val_acc[i]:.3f}, VAL MSE:   {val_loss[i]:.3f}, TRAIN ENERGY:   {train_energy[i]:.3f}\")\n",
    "\n",
    "        if early_stopper.early_stop(val_loss[i]):\n",
    "            print(f\"\\nEarly stopping at epoch {i+1}\")          \n",
    "            break\n",
    "\n",
    "print(f\"\\nTraining time: {datetime.now() - start_time}\")\n"
   ]
  },
  {
   "cell_type": "markdown",
   "metadata": {},
   "source": [
    "Final unbiased estimator on test set:"
   ]
  },
  {
   "cell_type": "code",
   "execution_count": 8,
   "metadata": {},
   "outputs": [
    {
     "name": "stdout",
     "output_type": "stream",
     "text": [
      "\n",
      "TEST acc:   0.923, TEST MSE:   0.018\n",
      "Training & testing finished in 0:02:41\n"
     ]
    }
   ],
   "source": [
    "loss, acc = 0, 0\n",
    "for X_batch, y_batch in test_loader:\n",
    "    y_pred = PCG.test_supervised(X_batch) \n",
    "\n",
    "    loss += MSE(y_pred, onehot(y_batch,N=10) ).item()\n",
    "    acc += torch.mean(( torch.argmax(y_pred, axis=1) == y_batch).float()).item() \n",
    "\n",
    "test_energy = energy/len(test_loader)\n",
    "test_acc = acc/len(test_loader)\n",
    "test_loss = loss/len(test_loader)\n",
    "\n",
    "print(f\"\\nTEST acc:   {test_acc:.3f}, TEST MSE:   {test_loss:.3f}\")\n",
    "print(\"Training & testing finished in %s\" % str((datetime.now() - start_time)).split('.')[0])"
   ]
  }
 ],
 "metadata": {
  "kernelspec": {
   "display_name": "base",
   "language": "python",
   "name": "python3"
  },
  "language_info": {
   "codemirror_mode": {
    "name": "ipython",
    "version": 3
   },
   "file_extension": ".py",
   "mimetype": "text/x-python",
   "name": "python",
   "nbconvert_exporter": "python",
   "pygments_lexer": "ipython3",
   "version": "3.9.12"
  }
 },
 "nbformat": 4,
 "nbformat_minor": 2
}
